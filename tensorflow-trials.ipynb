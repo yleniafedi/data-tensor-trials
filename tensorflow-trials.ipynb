{
 "cells": [
  {
   "cell_type": "markdown",
   "id": "253e2b52",
   "metadata": {},
   "source": [
    "## The Tensorflow Trials"
   ]
  },
  {
   "cell_type": "markdown",
   "id": "d67e216f",
   "metadata": {},
   "source": [
    "For much of the past week, you've been using tensors with your Deep Learning models. Over the course of today's challenges, you'll be manipulating tensors extensively and working with some unconventional model architectures. \n",
    "\n",
    "\n",
    "In this warm up, you'll be introduced to some new methods. \n",
    "\n",
    "All the methods here are going to make tackling challenges later in the day 100x easier, so if you do get stuck later on, make sure you come back here to see how you achieved the right answers. "
   ]
  },
  {
   "cell_type": "code",
   "execution_count": 1,
   "id": "c9671a9f",
   "metadata": {},
   "outputs": [],
   "source": [
    "import tensorflow as tf"
   ]
  },
  {
   "cell_type": "markdown",
   "id": "c2bc421e",
   "metadata": {},
   "source": [
    "A) Use `tf.ones` to create a tensor `a` filled with ones of shape (3,3)."
   ]
  },
  {
   "cell_type": "code",
   "execution_count": 3,
   "id": "a3969cac",
   "metadata": {},
   "outputs": [
    {
     "data": {
      "text/plain": [
       "<tf.Tensor: shape=(3, 3), dtype=float32, numpy=\n",
       "array([[1., 1., 1.],\n",
       "       [1., 1., 1.],\n",
       "       [1., 1., 1.]], dtype=float32)>"
      ]
     },
     "execution_count": 3,
     "metadata": {},
     "output_type": "execute_result"
    }
   ],
   "source": [
    "a = tf.ones([3, 3])\n",
    "a"
   ]
  },
  {
   "cell_type": "markdown",
   "id": "bdfddb8a",
   "metadata": {},
   "source": [
    "B) Use tf.expand_dims to make `a` an object of shape (1,3,3) called `b`."
   ]
  },
  {
   "cell_type": "code",
   "execution_count": 6,
   "id": "b273862a",
   "metadata": {},
   "outputs": [
    {
     "data": {
      "text/plain": [
       "<tf.Tensor: shape=(1, 3, 3), dtype=float32, numpy=\n",
       "array([[[1., 1., 1.],\n",
       "        [1., 1., 1.],\n",
       "        [1., 1., 1.]]], dtype=float32)>"
      ]
     },
     "execution_count": 6,
     "metadata": {},
     "output_type": "execute_result"
    }
   ],
   "source": [
    "b = tf.expand_dims(a, axis=0)\n",
    "b"
   ]
  },
  {
   "cell_type": "markdown",
   "id": "37477a79",
   "metadata": {},
   "source": [
    "C) Create a tensor `c` filled with zeroes of size (9,1)"
   ]
  },
  {
   "cell_type": "code",
   "execution_count": 13,
   "id": "3ade320c",
   "metadata": {},
   "outputs": [
    {
     "data": {
      "text/plain": [
       "<tf.Tensor: shape=(9, 1), dtype=float32, numpy=\n",
       "array([[0.],\n",
       "       [0.],\n",
       "       [0.],\n",
       "       [0.],\n",
       "       [0.],\n",
       "       [0.],\n",
       "       [0.],\n",
       "       [0.],\n",
       "       [0.]], dtype=float32)>"
      ]
     },
     "execution_count": 13,
     "metadata": {},
     "output_type": "execute_result"
    }
   ],
   "source": [
    "c = tf.zeros([9, 1])\n",
    "c"
   ]
  },
  {
   "cell_type": "markdown",
   "id": "a5ee189c",
   "metadata": {},
   "source": [
    "D) Reshape `c` to be of shape (1, 3, 3). Name it `d`."
   ]
  },
  {
   "cell_type": "code",
   "execution_count": 19,
   "id": "48fb596d",
   "metadata": {},
   "outputs": [
    {
     "data": {
      "text/plain": [
       "array([[[0., 0., 0.],\n",
       "        [0., 0., 0.],\n",
       "        [0., 0., 0.]]], dtype=float32)"
      ]
     },
     "execution_count": 19,
     "metadata": {},
     "output_type": "execute_result"
    }
   ],
   "source": [
    "d = np.reshape(c, (1,3,3))\n",
    "d"
   ]
  },
  {
   "cell_type": "markdown",
   "id": "06f6214a",
   "metadata": {},
   "source": [
    "E) Use `tf.matmul` to matrix multiply `b` and `d` with each other and now assign the tensor to `e`. "
   ]
  },
  {
   "cell_type": "code",
   "execution_count": 21,
   "id": "bb501cc3",
   "metadata": {},
   "outputs": [
    {
     "data": {
      "text/plain": [
       "<tf.Tensor: shape=(1, 3, 3), dtype=float32, numpy=\n",
       "array([[[0., 0., 0.],\n",
       "        [0., 0., 0.],\n",
       "        [0., 0., 0.]]], dtype=float32)>"
      ]
     },
     "execution_count": 21,
     "metadata": {},
     "output_type": "execute_result"
    }
   ],
   "source": [
    "e = tf.matmul(b,d)\n",
    "e"
   ]
  },
  {
   "cell_type": "markdown",
   "id": "1b36b90d",
   "metadata": {},
   "source": [
    "F) Below is a `numpy` array. Convert it to a tensor named `array_tensor`. Then use `tf.cast` to ensure it is of dtype `float` not `int`. Assign the result to `f`."
   ]
  },
  {
   "cell_type": "code",
   "execution_count": 24,
   "id": "5748f00f",
   "metadata": {},
   "outputs": [],
   "source": [
    "import numpy as np\n",
    "import torch"
   ]
  },
  {
   "cell_type": "code",
   "execution_count": 23,
   "id": "df2d6759",
   "metadata": {},
   "outputs": [],
   "source": [
    "array = np.array([[\n",
    "    [1,2,3],\n",
    "    [1,2,3],\n",
    "    [4,5,6],\n",
    "    [7,8,9]\n",
    "]])"
   ]
  },
  {
   "cell_type": "code",
   "execution_count": 26,
   "id": "27053294",
   "metadata": {},
   "outputs": [],
   "source": [
    "array_tensor = torch.from_numpy(array)"
   ]
  },
  {
   "cell_type": "code",
   "execution_count": 28,
   "id": "5878f2ad",
   "metadata": {},
   "outputs": [
    {
     "data": {
      "text/plain": [
       "<tf.Tensor: shape=(1, 4, 3), dtype=float32, numpy=\n",
       "array([[[1., 2., 3.],\n",
       "        [1., 2., 3.],\n",
       "        [4., 5., 6.],\n",
       "        [7., 8., 9.]]], dtype=float32)>"
      ]
     },
     "execution_count": 28,
     "metadata": {},
     "output_type": "execute_result"
    }
   ],
   "source": [
    "f = tf.cast(\n",
    "    array_tensor, dtype=float\n",
    ")\n",
    "\n",
    "f"
   ]
  },
  {
   "cell_type": "markdown",
   "id": "6a090726",
   "metadata": {},
   "source": [
    "G) Select the values in the __last column__ of `f` and save this to `g`. To be clear, `g` should have shape (4,) and contain the values `3,3,6,9`. "
   ]
  },
  {
   "cell_type": "code",
   "execution_count": 64,
   "id": "cc3b73f4",
   "metadata": {},
   "outputs": [
    {
     "data": {
      "text/plain": [
       "<tf.Tensor: shape=(1, 4), dtype=float32, numpy=array([[3., 3., 6., 9.]], dtype=float32)>"
      ]
     },
     "execution_count": 64,
     "metadata": {},
     "output_type": "execute_result"
    }
   ],
   "source": [
    "g = f[0:,:,2]\n",
    "g"
   ]
  },
  {
   "cell_type": "markdown",
   "id": "64e06dff",
   "metadata": {},
   "source": [
    "H) Expand the dimensions of g so that it's of shape (4,1). Assign this to `h`."
   ]
  },
  {
   "cell_type": "code",
   "execution_count": 80,
   "id": "64fdfa9e",
   "metadata": {},
   "outputs": [
    {
     "data": {
      "text/plain": [
       "(4, 1)"
      ]
     },
     "execution_count": 80,
     "metadata": {},
     "output_type": "execute_result"
    }
   ],
   "source": [
    "h = np.reshape(g, (4,1))\n",
    "h.shape"
   ]
  },
  {
   "cell_type": "markdown",
   "id": "d2eed1d0",
   "metadata": {},
   "source": [
    "H) Multiply e with f, using `tf.matmul` with the optional `transpose_b` argument (`e` must come first in your positional arguments, then `f`). Assign this to `h`."
   ]
  },
  {
   "cell_type": "code",
   "execution_count": 83,
   "id": "6363aca7",
   "metadata": {},
   "outputs": [
    {
     "data": {
      "text/plain": [
       "<tf.Tensor: shape=(1, 3, 4), dtype=float32, numpy=\n",
       "array([[[0., 0., 0., 0.],\n",
       "        [0., 0., 0., 0.],\n",
       "        [0., 0., 0., 0.]]], dtype=float32)>"
      ]
     },
     "execution_count": 83,
     "metadata": {},
     "output_type": "execute_result"
    }
   ],
   "source": [
    "h = tf.matmul(e,f, transpose_b=True)\n",
    "h"
   ]
  },
  {
   "cell_type": "markdown",
   "id": "d93f949e",
   "metadata": {},
   "source": [
    "I) Create a `(10,10)` tensor filled with ones. Then use `tf.linalg.band_part()` to mask out the upper triangle of the matrix (i.e. the upper triangle should all be 0s). Assign to `i`."
   ]
  },
  {
   "cell_type": "code",
   "execution_count": 88,
   "id": "407a829f",
   "metadata": {},
   "outputs": [
    {
     "data": {
      "text/plain": [
       "<tf.Tensor: shape=(10, 10), dtype=float32, numpy=\n",
       "array([[1., 0., 0., 0., 0., 0., 0., 0., 0., 0.],\n",
       "       [1., 1., 0., 0., 0., 0., 0., 0., 0., 0.],\n",
       "       [1., 1., 1., 0., 0., 0., 0., 0., 0., 0.],\n",
       "       [1., 1., 1., 1., 0., 0., 0., 0., 0., 0.],\n",
       "       [1., 1., 1., 1., 1., 0., 0., 0., 0., 0.],\n",
       "       [1., 1., 1., 1., 1., 1., 0., 0., 0., 0.],\n",
       "       [1., 1., 1., 1., 1., 1., 1., 0., 0., 0.],\n",
       "       [1., 1., 1., 1., 1., 1., 1., 1., 0., 0.],\n",
       "       [1., 1., 1., 1., 1., 1., 1., 1., 1., 0.],\n",
       "       [1., 1., 1., 1., 1., 1., 1., 1., 1., 1.]], dtype=float32)>"
      ]
     },
     "execution_count": 88,
     "metadata": {},
     "output_type": "execute_result"
    }
   ],
   "source": [
    "i = tf.ones([10, 10])\n",
    "i\n",
    "\n",
    "i = tf.linalg.band_part(i, -1, 0); \n",
    "i"
   ]
  },
  {
   "cell_type": "markdown",
   "id": "d42e0d0b",
   "metadata": {},
   "source": [
    "J) Take the `number_list` below and make it a tensor. Assign it to `j`."
   ]
  },
  {
   "cell_type": "code",
   "execution_count": 89,
   "id": "6e0224f9",
   "metadata": {},
   "outputs": [],
   "source": [
    "number_list = [1,2,3,4,8]"
   ]
  },
  {
   "cell_type": "code",
   "execution_count": 92,
   "id": "7cecf0a1",
   "metadata": {},
   "outputs": [
    {
     "data": {
      "text/plain": [
       "tensor([1., 2., 3., 4., 8.])"
      ]
     },
     "execution_count": 92,
     "metadata": {},
     "output_type": "execute_result"
    }
   ],
   "source": [
    "j = torch.Tensor(number_list)\n",
    "j"
   ]
  },
  {
   "cell_type": "markdown",
   "id": "8c601026",
   "metadata": {},
   "source": [
    "K) Use `tf.expand_dims` to make `j` into a tensor of shape (1,5). Assign to `k`."
   ]
  },
  {
   "cell_type": "code",
   "execution_count": 95,
   "id": "1bcbf536",
   "metadata": {},
   "outputs": [
    {
     "data": {
      "text/plain": [
       "<tf.Tensor: shape=(1, 5), dtype=float32, numpy=array([[1., 2., 3., 4., 8.]], dtype=float32)>"
      ]
     },
     "execution_count": 95,
     "metadata": {},
     "output_type": "execute_result"
    }
   ],
   "source": [
    "k = tf.expand_dims(j, axis=0)\n",
    "k"
   ]
  },
  {
   "cell_type": "markdown",
   "id": "1bc8121d",
   "metadata": {},
   "source": [
    "L) Use `tf.tile` to repeat `k` 50 times, with an eventual shape of `(50,5)`. Assign to `l`."
   ]
  },
  {
   "cell_type": "code",
   "execution_count": 100,
   "id": "6cc8168e",
   "metadata": {},
   "outputs": [
    {
     "data": {
      "text/plain": [
       "<tf.Tensor: shape=(50, 25), dtype=float32, numpy=\n",
       "array([[1., 2., 3., ..., 3., 4., 8.],\n",
       "       [1., 2., 3., ..., 3., 4., 8.],\n",
       "       [1., 2., 3., ..., 3., 4., 8.],\n",
       "       ...,\n",
       "       [1., 2., 3., ..., 3., 4., 8.],\n",
       "       [1., 2., 3., ..., 3., 4., 8.],\n",
       "       [1., 2., 3., ..., 3., 4., 8.]], dtype=float32)>"
      ]
     },
     "execution_count": 100,
     "metadata": {},
     "output_type": "execute_result"
    }
   ],
   "source": [
    "multiples = [50, 5]\n",
    "\n",
    "l = tf.tile(k, multiples)\n",
    "l"
   ]
  },
  {
   "cell_type": "markdown",
   "id": "d885b75f",
   "metadata": {},
   "source": [
    "M) Use a simple Boolean statement to create a tensor containing `True` values for where `l` is 3  and `False` for where it is not 3. Assign to `m`"
   ]
  },
  {
   "cell_type": "code",
   "execution_count": 119,
   "id": "cd865bba",
   "metadata": {},
   "outputs": [],
   "source": [
    "m = 0"
   ]
  },
  {
   "cell_type": "markdown",
   "id": "1181c4e1",
   "metadata": {},
   "source": [
    "N) Divide every value in you variable `l` (read as \"L\") by 3. Assign to `n`."
   ]
  },
  {
   "cell_type": "code",
   "execution_count": 118,
   "id": "4bf979e7",
   "metadata": {},
   "outputs": [],
   "source": [
    "n = 0"
   ]
  },
  {
   "cell_type": "markdown",
   "id": "737a2a50",
   "metadata": {},
   "source": [
    "O) Use `tf.concat()` to take the list of two tensors below of shape (5,5) and (5,5) each and turn them into a final tensor of shape (10,5). Assign to `o`. Think carefully about the concation axis."
   ]
  },
  {
   "cell_type": "code",
   "execution_count": null,
   "id": "ef952e0c",
   "metadata": {},
   "outputs": [],
   "source": [
    "tensor_list = [tf.ones((5,5)), tf.ones((5,5))]"
   ]
  },
  {
   "cell_type": "code",
   "execution_count": 121,
   "id": "549b3b93",
   "metadata": {},
   "outputs": [],
   "source": [
    "o = (1,1)"
   ]
  },
  {
   "cell_type": "markdown",
   "id": "f8f154ae",
   "metadata": {},
   "source": [
    "### Check your answers"
   ]
  },
  {
   "cell_type": "code",
   "execution_count": 122,
   "id": "cc949bae",
   "metadata": {},
   "outputs": [
    {
     "ename": "AttributeError",
     "evalue": "'tuple' object has no attribute 'shape'",
     "output_type": "error",
     "traceback": [
      "\u001b[0;31m---------------------------------------------------------------------------\u001b[0m",
      "\u001b[0;31mAttributeError\u001b[0m                            Traceback (most recent call last)",
      "Cell \u001b[0;32mIn [122], line 18\u001b[0m\n\u001b[1;32m      1\u001b[0m \u001b[38;5;28;01mfrom\u001b[39;00m \u001b[38;5;21;01mnbresult\u001b[39;00m \u001b[38;5;28;01mimport\u001b[39;00m ChallengeResult\n\u001b[1;32m      3\u001b[0m result \u001b[38;5;241m=\u001b[39m ChallengeResult(\u001b[38;5;124m'\u001b[39m\u001b[38;5;124mtensors\u001b[39m\u001b[38;5;124m'\u001b[39m,\n\u001b[1;32m      4\u001b[0m                             a \u001b[38;5;241m=\u001b[39m a,\n\u001b[1;32m      5\u001b[0m                             b \u001b[38;5;241m=\u001b[39m b,\n\u001b[1;32m      6\u001b[0m                             c \u001b[38;5;241m=\u001b[39m c,\n\u001b[1;32m      7\u001b[0m                             d_shape \u001b[38;5;241m=\u001b[39m d\u001b[38;5;241m.\u001b[39mshape,\n\u001b[1;32m      8\u001b[0m                             e \u001b[38;5;241m=\u001b[39m e,\n\u001b[1;32m      9\u001b[0m                             f \u001b[38;5;241m=\u001b[39m f, \n\u001b[1;32m     10\u001b[0m                             g \u001b[38;5;241m=\u001b[39m g,\n\u001b[1;32m     11\u001b[0m                             h \u001b[38;5;241m=\u001b[39m h,\n\u001b[1;32m     12\u001b[0m                             i \u001b[38;5;241m=\u001b[39m i,\n\u001b[1;32m     13\u001b[0m                             j \u001b[38;5;241m=\u001b[39m j,\n\u001b[1;32m     14\u001b[0m                             k \u001b[38;5;241m=\u001b[39m k,\n\u001b[1;32m     15\u001b[0m                             l \u001b[38;5;241m=\u001b[39m l,\n\u001b[1;32m     16\u001b[0m                             m \u001b[38;5;241m=\u001b[39m m,\n\u001b[1;32m     17\u001b[0m                             n \u001b[38;5;241m=\u001b[39m n, \n\u001b[0;32m---> 18\u001b[0m                             o_shape \u001b[38;5;241m=\u001b[39m \u001b[43mo\u001b[49m\u001b[38;5;241;43m.\u001b[39;49m\u001b[43mshape\u001b[49m\n\u001b[1;32m     19\u001b[0m )\n\u001b[1;32m     21\u001b[0m result\u001b[38;5;241m.\u001b[39mwrite()\n\u001b[1;32m     22\u001b[0m \u001b[38;5;28mprint\u001b[39m(result\u001b[38;5;241m.\u001b[39mcheck())\n",
      "\u001b[0;31mAttributeError\u001b[0m: 'tuple' object has no attribute 'shape'"
     ]
    }
   ],
   "source": [
    "from nbresult import ChallengeResult\n",
    "\n",
    "result = ChallengeResult('tensors',\n",
    "                            a = a,\n",
    "                            b = b,\n",
    "                            c = c,\n",
    "                            d_shape = d.shape,\n",
    "                            e = e,\n",
    "                            f = f, \n",
    "                            g = g,\n",
    "                            h = h,\n",
    "                            i = i,\n",
    "                            j = j,\n",
    "                            k = k,\n",
    "                            l = l,\n",
    "                            m = m,\n",
    "                            n = n, \n",
    "                            o_shape = o.shape\n",
    ")\n",
    "\n",
    "result.write()\n",
    "print(result.check())"
   ]
  },
  {
   "cell_type": "markdown",
   "id": "bdf7d517",
   "metadata": {},
   "source": [
    "### Great work 🔥\n",
    "\n",
    "Now it's time to get stuck into some modelling!"
   ]
  }
 ],
 "metadata": {
  "kernelspec": {
   "display_name": "Python 3 (ipykernel)",
   "language": "python",
   "name": "python3"
  },
  "language_info": {
   "codemirror_mode": {
    "name": "ipython",
    "version": 3
   },
   "file_extension": ".py",
   "mimetype": "text/x-python",
   "name": "python",
   "nbconvert_exporter": "python",
   "pygments_lexer": "ipython3",
   "version": "3.10.6"
  },
  "toc": {
   "base_numbering": 1,
   "nav_menu": {},
   "number_sections": true,
   "sideBar": true,
   "skip_h1_title": false,
   "title_cell": "Table of Contents",
   "title_sidebar": "Contents",
   "toc_cell": false,
   "toc_position": {},
   "toc_section_display": true,
   "toc_window_display": false
  }
 },
 "nbformat": 4,
 "nbformat_minor": 5
}
